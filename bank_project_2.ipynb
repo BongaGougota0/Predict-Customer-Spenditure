{
 "cells": [
  {
   "cell_type": "markdown",
   "id": "799f31e8-21ac-47b0-a8e0-76901e6d25d8",
   "metadata": {
    "scrolled": true
   },
   "source": [
    "## Chief Technology Operations Project - CTO_Bank Project\n",
    "\n",
    "The CTO_Bank Project uses data sourced from [dataset](https://www.kaggle.com/datasets/shivamb/bank-customer-segmentation)\n",
    "\n",
    "The aim of this project is to create a machine learning model that will recomend products and services to a customer, predict a customers salarary and \n",
    "predict a bank customers likelihood of purchasing products or services offered by the bank (CTO_Bank). The drivers of this prediction will be evaluated \n",
    "from the following data exploration the frequency a user transacts, the average spend of the user per transaction, customer account balance average \n",
    "over the months or days.\n",
    "\n",
    "The product and services offered by the bank include \n",
    "1. Loans\n",
    "2. Car Insurance \n",
    "3. Medical Aid\n",
    "3. Phone Insurance\n",
    "4. Car Road Side Assistance\n",
    "5. Dental Benefits\n",
    "...\n",
    "products and services will vary from this document since products and services will be created dynamically on the user interface.\n",
    "\n",
    "At project completion the Machine Learning Models will be deployed to the Web App. These models will recommend products and services to a user, on the \n",
    "on  the admin panel, it should predict a users expected salary based on their account balance and also forecast the users spending.\n",
    "\n",
    "Visit to view project: \n",
    "                     bongagprojects.site / bongagprojects.site:9091 (Work In Progress)"
   ]
  },
  {
   "cell_type": "code",
   "execution_count": 35,
   "id": "a586be42-4501-4cd9-814c-c697fa8d2122",
   "metadata": {},
   "outputs": [
    {
     "data": {
      "text/html": [
       "<div>\n",
       "<style scoped>\n",
       "    .dataframe tbody tr th:only-of-type {\n",
       "        vertical-align: middle;\n",
       "    }\n",
       "\n",
       "    .dataframe tbody tr th {\n",
       "        vertical-align: top;\n",
       "    }\n",
       "\n",
       "    .dataframe thead th {\n",
       "        text-align: right;\n",
       "    }\n",
       "</style>\n",
       "<table border=\"1\" class=\"dataframe\">\n",
       "  <thead>\n",
       "    <tr style=\"text-align: right;\">\n",
       "      <th></th>\n",
       "      <th>TransactionID</th>\n",
       "      <th>CustomerID</th>\n",
       "      <th>CustomerDOB</th>\n",
       "      <th>CustGender</th>\n",
       "      <th>CustLocation</th>\n",
       "      <th>CustAccountBalance</th>\n",
       "      <th>TransactionDate</th>\n",
       "      <th>TransactionTime</th>\n",
       "      <th>TransactionAmount (R)</th>\n",
       "      <th>Age</th>\n",
       "    </tr>\n",
       "  </thead>\n",
       "  <tbody>\n",
       "    <tr>\n",
       "      <th>0</th>\n",
       "      <td>T1</td>\n",
       "      <td>C5841053</td>\n",
       "      <td>1994-10-01</td>\n",
       "      <td>F</td>\n",
       "      <td>JAMSHEDPUR</td>\n",
       "      <td>17819.05</td>\n",
       "      <td>2016-02-08</td>\n",
       "      <td>1970-01-01 00:00:00.000143207</td>\n",
       "      <td>25.0</td>\n",
       "      <td>30.0</td>\n",
       "    </tr>\n",
       "    <tr>\n",
       "      <th>1</th>\n",
       "      <td>T3</td>\n",
       "      <td>C4417068</td>\n",
       "      <td>1996-11-26</td>\n",
       "      <td>F</td>\n",
       "      <td>MUMBAI</td>\n",
       "      <td>17874.44</td>\n",
       "      <td>2016-02-08</td>\n",
       "      <td>1970-01-01 00:00:00.000142712</td>\n",
       "      <td>459.0</td>\n",
       "      <td>28.0</td>\n",
       "    </tr>\n",
       "    <tr>\n",
       "      <th>2</th>\n",
       "      <td>T5</td>\n",
       "      <td>C9031234</td>\n",
       "      <td>1988-03-24</td>\n",
       "      <td>F</td>\n",
       "      <td>NAVI MUMBAI</td>\n",
       "      <td>6714.43</td>\n",
       "      <td>2016-02-08</td>\n",
       "      <td>1970-01-01 00:00:00.000181156</td>\n",
       "      <td>1762.5</td>\n",
       "      <td>36.0</td>\n",
       "    </tr>\n",
       "    <tr>\n",
       "      <th>3</th>\n",
       "      <td>T7</td>\n",
       "      <td>C7126560</td>\n",
       "      <td>1992-01-26</td>\n",
       "      <td>F</td>\n",
       "      <td>MUMBAI</td>\n",
       "      <td>973.46</td>\n",
       "      <td>2016-02-08</td>\n",
       "      <td>1970-01-01 00:00:00.000173806</td>\n",
       "      <td>566.0</td>\n",
       "      <td>32.0</td>\n",
       "    </tr>\n",
       "    <tr>\n",
       "      <th>4</th>\n",
       "      <td>T8</td>\n",
       "      <td>C1220223</td>\n",
       "      <td>1982-01-27</td>\n",
       "      <td>M</td>\n",
       "      <td>MUMBAI</td>\n",
       "      <td>95075.54</td>\n",
       "      <td>2016-02-08</td>\n",
       "      <td>1970-01-01 00:00:00.000170537</td>\n",
       "      <td>148.0</td>\n",
       "      <td>42.0</td>\n",
       "    </tr>\n",
       "  </tbody>\n",
       "</table>\n",
       "</div>"
      ],
      "text/plain": [
       "  TransactionID CustomerID CustomerDOB CustGender CustLocation  \\\n",
       "0            T1   C5841053  1994-10-01          F   JAMSHEDPUR   \n",
       "1            T3   C4417068  1996-11-26          F       MUMBAI   \n",
       "2            T5   C9031234  1988-03-24          F  NAVI MUMBAI   \n",
       "3            T7   C7126560  1992-01-26          F       MUMBAI   \n",
       "4            T8   C1220223  1982-01-27          M       MUMBAI   \n",
       "\n",
       "   CustAccountBalance TransactionDate                TransactionTime  \\\n",
       "0            17819.05      2016-02-08  1970-01-01 00:00:00.000143207   \n",
       "1            17874.44      2016-02-08  1970-01-01 00:00:00.000142712   \n",
       "2             6714.43      2016-02-08  1970-01-01 00:00:00.000181156   \n",
       "3              973.46      2016-02-08  1970-01-01 00:00:00.000173806   \n",
       "4            95075.54      2016-02-08  1970-01-01 00:00:00.000170537   \n",
       "\n",
       "   TransactionAmount (R)   Age  \n",
       "0                   25.0  30.0  \n",
       "1                  459.0  28.0  \n",
       "2                 1762.5  36.0  \n",
       "3                  566.0  32.0  \n",
       "4                  148.0  42.0  "
      ]
     },
     "execution_count": 35,
     "metadata": {},
     "output_type": "execute_result"
    }
   ],
   "source": [
    "# Now using the new dataset csv file\n",
    "import pandas as pd\n",
    "df = pd.read_csv(\"new_dataset.csv\")\n",
    "df.head(5)"
   ]
  },
  {
   "cell_type": "code",
   "execution_count": 36,
   "id": "61c7c30e-5dee-442a-a4a7-cfe6d084b91d",
   "metadata": {},
   "outputs": [
    {
     "name": "stdout",
     "output_type": "stream",
     "text": [
      "<class 'pandas.core.frame.DataFrame'>\n",
      "RangeIndex: 950938 entries, 0 to 950937\n",
      "Data columns (total 10 columns):\n",
      " #   Column                 Non-Null Count   Dtype  \n",
      "---  ------                 --------------   -----  \n",
      " 0   TransactionID          950938 non-null  object \n",
      " 1   CustomerID             950938 non-null  object \n",
      " 2   CustomerDOB            950938 non-null  object \n",
      " 3   CustGender             950052 non-null  object \n",
      " 4   CustLocation           950827 non-null  object \n",
      " 5   CustAccountBalance     950938 non-null  float64\n",
      " 6   TransactionDate        950938 non-null  object \n",
      " 7   TransactionTime        950938 non-null  object \n",
      " 8   TransactionAmount (R)  950938 non-null  float64\n",
      " 9   Age                    950938 non-null  float64\n",
      "dtypes: float64(3), object(7)\n",
      "memory usage: 72.6+ MB\n"
     ]
    }
   ],
   "source": [
    "# View details about the data\n",
    "df.info()"
   ]
  },
  {
   "cell_type": "code",
   "execution_count": 37,
   "id": "0bcebd08-b81c-4528-8ce7-6345fb54c985",
   "metadata": {},
   "outputs": [],
   "source": [
    "# Rename columns\n",
    "df['Gender'] = df['CustGender']\n",
    "df['Location'] = df['CustLocation']\n",
    "df['AccountBalance'] = df['CustAccountBalance']\n",
    "df.drop(columns=['CustGender', 'CustAccountBalance', 'CustLocation'], inplace=True)\n",
    "\n",
    "# Fix data types\n",
    "df['AccountBalance'] = df['AccountBalance'].astype(int)\n",
    "df['TransactionTime'] = pd.to_datetime(df['TransactionTime'])\n",
    "df['TransactionDate'] = pd.to_datetime(df['TransactionDate'], format=\"%Y-%m-%d\")\n",
    "df['CustomerDOB'] =  pd.to_datetime(df['CustomerDOB'], format=\"%Y-%m-%d\")"
   ]
  },
  {
   "cell_type": "code",
   "execution_count": 38,
   "id": "4af65b98-6b57-47a7-bdce-19310ba798b2",
   "metadata": {},
   "outputs": [
    {
     "name": "stdout",
     "output_type": "stream",
     "text": [
      "<class 'pandas.core.frame.DataFrame'>\n",
      "RangeIndex: 950938 entries, 0 to 950937\n",
      "Data columns (total 10 columns):\n",
      " #   Column                 Non-Null Count   Dtype         \n",
      "---  ------                 --------------   -----         \n",
      " 0   TransactionID          950938 non-null  object        \n",
      " 1   CustomerID             950938 non-null  object        \n",
      " 2   CustomerDOB            950938 non-null  datetime64[ns]\n",
      " 3   TransactionDate        950938 non-null  datetime64[ns]\n",
      " 4   TransactionTime        950938 non-null  datetime64[ns]\n",
      " 5   TransactionAmount (R)  950938 non-null  float64       \n",
      " 6   Age                    950938 non-null  float64       \n",
      " 7   Gender                 950052 non-null  object        \n",
      " 8   Location               950827 non-null  object        \n",
      " 9   AccountBalance         950938 non-null  int32         \n",
      "dtypes: datetime64[ns](3), float64(2), int32(1), object(4)\n",
      "memory usage: 68.9+ MB\n"
     ]
    }
   ],
   "source": [
    "df.info()"
   ]
  },
  {
   "cell_type": "code",
   "execution_count": 39,
   "id": "4a3fde72-38b7-444b-9c93-78c11ee73530",
   "metadata": {},
   "outputs": [
    {
     "data": {
      "text/plain": [
       "TransactionID              0\n",
       "CustomerID                 0\n",
       "CustomerDOB                0\n",
       "TransactionDate            0\n",
       "TransactionTime            0\n",
       "TransactionAmount (R)      0\n",
       "Age                        0\n",
       "Gender                   886\n",
       "Location                 111\n",
       "AccountBalance             0\n",
       "dtype: int64"
      ]
     },
     "execution_count": 39,
     "metadata": {},
     "output_type": "execute_result"
    }
   ],
   "source": [
    "# Check N/A\n",
    "df.isna().sum()"
   ]
  },
  {
   "cell_type": "code",
   "execution_count": 49,
   "id": "991eb447-9108-4839-b567-aa6a1ca6c5f5",
   "metadata": {},
   "outputs": [
    {
     "name": "stdout",
     "output_type": "stream",
     "text": [
      "Get the total number of duplicate rows is = 0\n"
     ]
    }
   ],
   "source": [
    "# Check duplicates\n",
    "print(f\"Get the total number of duplicate rows is = {df.duplicated().sum()}\")"
   ]
  },
  {
   "cell_type": "code",
   "execution_count": 54,
   "id": "5c255d01-6651-4e8b-ab96-2e8f8c69324a",
   "metadata": {},
   "outputs": [
    {
     "data": {
      "text/html": [
       "<div>\n",
       "<style scoped>\n",
       "    .dataframe tbody tr th:only-of-type {\n",
       "        vertical-align: middle;\n",
       "    }\n",
       "\n",
       "    .dataframe tbody tr th {\n",
       "        vertical-align: top;\n",
       "    }\n",
       "\n",
       "    .dataframe thead th {\n",
       "        text-align: right;\n",
       "    }\n",
       "</style>\n",
       "<table border=\"1\" class=\"dataframe\">\n",
       "  <thead>\n",
       "    <tr style=\"text-align: right;\">\n",
       "      <th></th>\n",
       "      <th>TransactionID</th>\n",
       "      <th>CustomerID</th>\n",
       "      <th>CustomerDOB</th>\n",
       "      <th>TransactionDate</th>\n",
       "      <th>TransactionTime</th>\n",
       "      <th>TransactionAmount (R)</th>\n",
       "      <th>Age</th>\n",
       "      <th>Gender</th>\n",
       "      <th>Location</th>\n",
       "      <th>AccountBalance</th>\n",
       "    </tr>\n",
       "  </thead>\n",
       "  <tbody>\n",
       "    <tr>\n",
       "      <th>163</th>\n",
       "      <td>T177</td>\n",
       "      <td>C5698953</td>\n",
       "      <td>1800-01-01</td>\n",
       "      <td>2016-12-08</td>\n",
       "      <td>1970-01-01 00:00:00.000155727</td>\n",
       "      <td>3449.00</td>\n",
       "      <td>224.0</td>\n",
       "      <td>NaN</td>\n",
       "      <td>NAVI MUMBAI</td>\n",
       "      <td>8512</td>\n",
       "    </tr>\n",
       "    <tr>\n",
       "      <th>1968</th>\n",
       "      <td>T2125</td>\n",
       "      <td>C4525944</td>\n",
       "      <td>1800-01-01</td>\n",
       "      <td>2016-10-21</td>\n",
       "      <td>1970-01-01 00:00:00.000201052</td>\n",
       "      <td>584.06</td>\n",
       "      <td>224.0</td>\n",
       "      <td>NaN</td>\n",
       "      <td>BANGALORE</td>\n",
       "      <td>7115</td>\n",
       "    </tr>\n",
       "  </tbody>\n",
       "</table>\n",
       "</div>"
      ],
      "text/plain": [
       "     TransactionID CustomerID CustomerDOB TransactionDate  \\\n",
       "163           T177   C5698953  1800-01-01      2016-12-08   \n",
       "1968         T2125   C4525944  1800-01-01      2016-10-21   \n",
       "\n",
       "                   TransactionTime  TransactionAmount (R)    Age Gender  \\\n",
       "163  1970-01-01 00:00:00.000155727                3449.00  224.0    NaN   \n",
       "1968 1970-01-01 00:00:00.000201052                 584.06  224.0    NaN   \n",
       "\n",
       "         Location  AccountBalance  \n",
       "163   NAVI MUMBAI            8512  \n",
       "1968    BANGALORE            7115  "
      ]
     },
     "execution_count": 54,
     "metadata": {},
     "output_type": "execute_result"
    }
   ],
   "source": [
    "# From 2nd previous cell, notice only two columns have missing values [Gender and Locations]\n",
    "# view rows with missing values for gender\n",
    "df[df['Gender'].isna()].head(2)"
   ]
  },
  {
   "cell_type": "code",
   "execution_count": 53,
   "id": "3edffa2f-63a3-4160-ab18-345754c0c2f6",
   "metadata": {},
   "outputs": [
    {
     "data": {
      "text/html": [
       "<div>\n",
       "<style scoped>\n",
       "    .dataframe tbody tr th:only-of-type {\n",
       "        vertical-align: middle;\n",
       "    }\n",
       "\n",
       "    .dataframe tbody tr th {\n",
       "        vertical-align: top;\n",
       "    }\n",
       "\n",
       "    .dataframe thead th {\n",
       "        text-align: right;\n",
       "    }\n",
       "</style>\n",
       "<table border=\"1\" class=\"dataframe\">\n",
       "  <thead>\n",
       "    <tr style=\"text-align: right;\">\n",
       "      <th></th>\n",
       "      <th>TransactionID</th>\n",
       "      <th>CustomerID</th>\n",
       "      <th>CustomerDOB</th>\n",
       "      <th>TransactionDate</th>\n",
       "      <th>TransactionTime</th>\n",
       "      <th>TransactionAmount (R)</th>\n",
       "      <th>Age</th>\n",
       "      <th>Gender</th>\n",
       "      <th>Location</th>\n",
       "      <th>AccountBalance</th>\n",
       "    </tr>\n",
       "  </thead>\n",
       "  <tbody>\n",
       "    <tr>\n",
       "      <th>2092</th>\n",
       "      <td>T2257</td>\n",
       "      <td>C7383573</td>\n",
       "      <td>1990-01-11</td>\n",
       "      <td>2016-10-21</td>\n",
       "      <td>1970-01-01 00:00:00.000204113</td>\n",
       "      <td>96.0</td>\n",
       "      <td>34.0</td>\n",
       "      <td>M</td>\n",
       "      <td>NaN</td>\n",
       "      <td>262645</td>\n",
       "    </tr>\n",
       "    <tr>\n",
       "      <th>32199</th>\n",
       "      <td>T35569</td>\n",
       "      <td>C2737330</td>\n",
       "      <td>1986-10-12</td>\n",
       "      <td>2016-09-26</td>\n",
       "      <td>1970-01-01 00:00:00.000190506</td>\n",
       "      <td>99.0</td>\n",
       "      <td>38.0</td>\n",
       "      <td>M</td>\n",
       "      <td>NaN</td>\n",
       "      <td>17000</td>\n",
       "    </tr>\n",
       "  </tbody>\n",
       "</table>\n",
       "</div>"
      ],
      "text/plain": [
       "      TransactionID CustomerID CustomerDOB TransactionDate  \\\n",
       "2092          T2257   C7383573  1990-01-11      2016-10-21   \n",
       "32199        T35569   C2737330  1986-10-12      2016-09-26   \n",
       "\n",
       "                    TransactionTime  TransactionAmount (R)   Age Gender  \\\n",
       "2092  1970-01-01 00:00:00.000204113                   96.0  34.0      M   \n",
       "32199 1970-01-01 00:00:00.000190506                   99.0  38.0      M   \n",
       "\n",
       "      Location  AccountBalance  \n",
       "2092       NaN          262645  \n",
       "32199      NaN           17000  "
      ]
     },
     "execution_count": 53,
     "metadata": {},
     "output_type": "execute_result"
    }
   ],
   "source": [
    "# view rows with missing values for Location\n",
    "df[df['Location'].isna()].head(2)"
   ]
  },
  {
   "cell_type": "code",
   "execution_count": 56,
   "id": "62ef3910-1cb9-4af1-9b73-f0dae2580b47",
   "metadata": {},
   "outputs": [
    {
     "name": "stdout",
     "output_type": "stream",
     "text": [
      "percentage value of gender rows with missing data is = 0.09 \n"
     ]
    }
   ],
   "source": [
    "import numpy as np\n",
    "# Divide by CustomerID column since there are no missing values for CustomerID column. Use this column for both Gender and Location\n",
    "\n",
    "count_in_percentage_gender = np.round(df.isna().sum()[\"Gender\"]/df.CustomerID.shape[0] * 100, 2)\n",
    "print(f\"percentage value of gender rows with missing data is = {count_in_percentage} \")\n",
    "# Its not a lot of rows that have missing values, so I can drop these rows."
   ]
  },
  {
   "cell_type": "code",
   "execution_count": 57,
   "id": "caa5d075-1402-4e47-b623-a07d93fee932",
   "metadata": {},
   "outputs": [
    {
     "name": "stdout",
     "output_type": "stream",
     "text": [
      "percentage value of location rows with missing data is = 0.09 \n"
     ]
    }
   ],
   "source": [
    "count_in_percentage_location = np.round(df.isna().sum()[\"Location\"]/df.CustomerID.shape[0] * 100, 2)\n",
    "print(f\"percentage value of location rows with missing data is = {count_in_percentage} \")\n",
    "# Its not a lot of rows that have missing values, so I can drop these rows."
   ]
  },
  {
   "cell_type": "code",
   "execution_count": 21,
   "id": "84795d52-ad28-41cc-8b0e-1348eabea7fc",
   "metadata": {},
   "outputs": [
    {
     "name": "stdout",
     "output_type": "stream",
     "text": [
      "<class 'pandas.core.frame.DataFrame'>\n",
      "Index: 949941 entries, 0 to 950937\n",
      "Data columns (total 11 columns):\n",
      " #   Column                 Non-Null Count   Dtype         \n",
      "---  ------                 --------------   -----         \n",
      " 0   TransactionID          949941 non-null  object        \n",
      " 1   CustomerID             949941 non-null  object        \n",
      " 2   CustomerDOB            949941 non-null  datetime64[ns]\n",
      " 3   TransactionDate        949941 non-null  datetime64[ns]\n",
      " 4   TransactionTime        949941 non-null  datetime64[ns]\n",
      " 5   TransactionAmount (R)  949941 non-null  float64       \n",
      " 6   Age                    949941 non-null  float64       \n",
      " 7   Gender                 949941 non-null  object        \n",
      " 8   Location               949941 non-null  object        \n",
      " 9   AccountBalance         949941 non-null  int32         \n",
      " 10  TransactionFrequency   949941 non-null  int64         \n",
      "dtypes: datetime64[ns](3), float64(2), int32(1), int64(1), object(4)\n",
      "memory usage: 83.3+ MB\n"
     ]
    }
   ],
   "source": [
    "# Drop rows where Gender = NaN and where Location is NaN\n",
    "df.dropna(inplace=True)\n",
    "df.info()"
   ]
  },
  {
   "cell_type": "markdown",
   "id": "ac5f8f00-04fc-425e-b8fa-7e61613e64fa",
   "metadata": {},
   "source": [
    "## Feature Engineering\n",
    "\n",
    "add new features that give further insight about this data. These new features will enhance constructing a reliable learning model."
   ]
  },
  {
   "cell_type": "code",
   "execution_count": 29,
   "id": "217ca964-19b0-48ec-bab9-41072aad8377",
   "metadata": {},
   "outputs": [],
   "source": [
    "#Create a new column to track how often a custom transacts.\n",
    "df['TransactionFrequency'] = df.groupby('CustomerID')['TransactionDate'].transform('nunique')"
   ]
  },
  {
   "cell_type": "code",
   "execution_count": 34,
   "id": "9abe61ac-b833-476d-bf4a-f6c8907d34e0",
   "metadata": {},
   "outputs": [
    {
     "data": {
      "text/html": [
       "<div>\n",
       "<style scoped>\n",
       "    .dataframe tbody tr th:only-of-type {\n",
       "        vertical-align: middle;\n",
       "    }\n",
       "\n",
       "    .dataframe tbody tr th {\n",
       "        vertical-align: top;\n",
       "    }\n",
       "\n",
       "    .dataframe thead th {\n",
       "        text-align: right;\n",
       "    }\n",
       "</style>\n",
       "<table border=\"1\" class=\"dataframe\">\n",
       "  <thead>\n",
       "    <tr style=\"text-align: right;\">\n",
       "      <th></th>\n",
       "      <th>TransactionDate</th>\n",
       "    </tr>\n",
       "  </thead>\n",
       "  <tbody>\n",
       "    <tr>\n",
       "      <th>count</th>\n",
       "      <td>949941</td>\n",
       "    </tr>\n",
       "    <tr>\n",
       "      <th>mean</th>\n",
       "      <td>2016-07-25 13:31:19.055225600</td>\n",
       "    </tr>\n",
       "    <tr>\n",
       "      <th>min</th>\n",
       "      <td>2016-01-08 00:00:00</td>\n",
       "    </tr>\n",
       "    <tr>\n",
       "      <th>25%</th>\n",
       "      <td>2016-06-09 00:00:00</td>\n",
       "    </tr>\n",
       "    <tr>\n",
       "      <th>50%</th>\n",
       "      <td>2016-08-20 00:00:00</td>\n",
       "    </tr>\n",
       "    <tr>\n",
       "      <th>75%</th>\n",
       "      <td>2016-09-09 00:00:00</td>\n",
       "    </tr>\n",
       "    <tr>\n",
       "      <th>max</th>\n",
       "      <td>2016-12-09 00:00:00</td>\n",
       "    </tr>\n",
       "  </tbody>\n",
       "</table>\n",
       "</div>"
      ],
      "text/plain": [
       "                     TransactionDate\n",
       "count                         949941\n",
       "mean   2016-07-25 13:31:19.055225600\n",
       "min              2016-01-08 00:00:00\n",
       "25%              2016-06-09 00:00:00\n",
       "50%              2016-08-20 00:00:00\n",
       "75%              2016-09-09 00:00:00\n",
       "max              2016-12-09 00:00:00"
      ]
     },
     "execution_count": 34,
     "metadata": {},
     "output_type": "execute_result"
    }
   ],
   "source": [
    "# Determine when do most transaction happen.\n",
    "pd.DataFrame(df.TransactionDate.describe())"
   ]
  },
  {
   "cell_type": "markdown",
   "id": "25b07a64-e5e7-4cd2-9447-59eecec6438d",
   "metadata": {},
   "source": [
    "most tranaction happened in  (MAX = 2016-12-09)"
   ]
  },
  {
   "cell_type": "code",
   "execution_count": null,
   "id": "00be6943-300b-4912-8d39-e0ec2b52f442",
   "metadata": {},
   "outputs": [],
   "source": []
  }
 ],
 "metadata": {
  "kernelspec": {
   "display_name": "Python 3 (ipykernel)",
   "language": "python",
   "name": "python3"
  },
  "language_info": {
   "codemirror_mode": {
    "name": "ipython",
    "version": 3
   },
   "file_extension": ".py",
   "mimetype": "text/x-python",
   "name": "python",
   "nbconvert_exporter": "python",
   "pygments_lexer": "ipython3",
   "version": "3.11.7"
  }
 },
 "nbformat": 4,
 "nbformat_minor": 5
}
